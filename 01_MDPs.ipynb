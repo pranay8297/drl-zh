{
  "cells": [
    {
      "cell_type": "markdown",
      "metadata": {
        "id": "J_tRJpYfqO7f"
      },
      "source": [
        "# Markov Decision Process (MDP)\n",
        "\n",
        "MDPs provide the mathematical framework to define the idealized Reinforcement Learning problem:\n",
        "\n",
        "<div>\n",
        "  <img src=\"https://github.com/pranay8297/drl-zh/blob/main/assets/01_MDP_agent_env_diagram.png?raw=1\">\n",
        "  <br>\n",
        "  <small>Drawing from Sutton and Barto, Reinforcement Learning: An Introduction, 2020</small>\n",
        "</div>\n",
        "\n",
        "**Reinforcement learning** algorithms enable the agent to learn to solve a control task (formulated\n",
        "as an MDP) by trial and error, without any supervision, just interacting with the environment, and\n",
        "receving feedback in the form of positive / negative rewards.\n",
        "\n",
        "## MDP Formal Definition\n",
        "\n",
        "* Set of states $S$\n",
        "* Set of actions $A$\n",
        "* Transition function $P(s'|s, a)$\n",
        "* Reward function $R(s, a, s')$\n",
        "* Initial state $s_0$\n",
        "* Discount factor $\\gamma$\n",
        "* Horizon $H$ (how long we are going to be acting)\n",
        "\n",
        "MDPs are **memoryless** (_Markov property_): we only need the current state to decide what action to\n",
        "take next, and not the history of all the states and actions it took before."
      ]
    },
    {
      "cell_type": "markdown",
      "metadata": {
        "id": "weMiEU7sqO7h"
      },
      "source": [
        "## Hands-on Example: Grid World\n",
        "\n",
        "<div>\n",
        "  <img src=\"https://github.com/pranay8297/drl-zh/blob/main/assets/01_MDP_gridworld.png?raw=1\">\n",
        "  <br>\n",
        "  <small>Picture from the U.C. Berkeley <a href=\"https://inst.eecs.berkeley.edu/~cs188/fa23/\">\n",
        "  CS 188</a> materials.</small>\n",
        "</div>\n",
        "\n",
        "### Let's create a basic _grid_ representation."
      ]
    },
    {
      "cell_type": "code",
      "execution_count": 1,
      "metadata": {
        "id": "vcMkd7keqO7h"
      },
      "outputs": [],
      "source": [
        "\n",
        "\n",
        "class Cell():\n",
        "    \"\"\"The type of cells in the Grid World.\"\"\"\n",
        "    START  = 'S'\n",
        "    TARGET = 'T'\n",
        "    EMPTY  = 'E'\n",
        "    WALL   = 'W'\n",
        "    BOMB   = 'B'\n",
        "\n",
        "class Grid:\n",
        "    \"\"\"The definition of the grid in the Grid World.\"\"\"\n",
        "\n",
        "    def __init__(self, spec: list[str]):\n",
        "        \"\"\"Creates the grid.\n",
        "\n",
        "        It accepts a list of strings identifying the cell types, for example:\n",
        "        [\n",
        "            'EET',\n",
        "            'EEE',\n",
        "            'SEE'\n",
        "        ]\n",
        "        The start cell is at position (x=0, y=0), the target cell at position (x=2, y=2).\n",
        "        \"\"\"\n",
        "        # TODO: Set the height and the width of the grid. Feel free to assume a well-formed input\n",
        "        #       (i.e., the grid is rectangular and all strings have the same length).\n",
        "        self.height: int = len(spec)\n",
        "        self.width:  int = len(spec[0])\n",
        "\n",
        "        # TODO: Store a list of lists of `Cell`s, parsed from the input `spec`.\n",
        "        self.cells:  list[list[Cell]] = [list(i) for i in spec]\n",
        "\n",
        "    def __str__(self) -> str:\n",
        "        \"\"\"Returns the string representation of the grid.\n",
        "\n",
        "        For the example above in the __init__ method, the string representation looks like:\n",
        "        E E T\n",
        "        E E E\n",
        "        S E E\n",
        "        \"\"\"\n",
        "        # TODO: Return the string representation.\n",
        "        return '\\n'.join([' '.join(i) for i in self.cells])\n",
        "\n",
        "    def __getitem__(self, key) -> Cell:\n",
        "        \"\"\"Returns the cell at position defined by key=(x, y).\"\"\"\n",
        "        # TODO: Return the Cell at position (x, y). Make sure the coordinates match the convention\n",
        "        #       described in the __init__ method!!!\n",
        "        return self.cells[self.height-1-key[1]][key[0]]"
      ]
    },
    {
      "cell_type": "code",
      "execution_count": 2,
      "metadata": {
        "id": "H1LY0ejaqO7i"
      },
      "outputs": [],
      "source": [
        "# Test the implementation!\n",
        "WORLD_GRID = Grid([\n",
        "    'EEET',\n",
        "    'EWEB',\n",
        "    'SEEE',\n",
        "])\n",
        "\n",
        "assert WORLD_GRID[3, 1] == Cell.BOMB\n",
        "assert WORLD_GRID[0, 0] == Cell.START\n",
        "assert WORLD_GRID.height == 3\n",
        "assert WORLD_GRID.width == 4\n",
        "\n",
        "assert str(WORLD_GRID) == \"\"\"\n",
        "E E E T\n",
        "E W E B\n",
        "S E E E\n",
        "\"\"\".strip()"
      ]
    },
    {
      "cell_type": "markdown",
      "metadata": {
        "id": "z8yrSztMqO7i"
      },
      "source": [
        "## Policy\n",
        "\n",
        "What does it mean to solve an MDP? It means finding a _policy_ $\\pi$ that maximizes the rewards\n",
        "collected by the agent. $\\pi$ is a function that returns the action the agent should take in the\n",
        "next step given the current state.\n",
        "\n",
        "There are two types of policies:\n",
        "\n",
        " * **Deterministic:** $\\pi(s) = a$\n",
        "\n",
        "   Always returns the same action for a given state.\n",
        " * **Stochastic:** $\\pi(s) = a \\sim P[A|S = s]$\n",
        "\n",
        "   Always samples that action from the same _probability distribution_ for a given state.\n",
        "\n",
        "As an example, let's see how good a random policy is in our grid world!"
      ]
    },
    {
      "cell_type": "code",
      "execution_count": 3,
      "metadata": {
        "id": "eyg_lSQhqO7i"
      },
      "outputs": [],
      "source": [
        "# For reproducibility, all the examples have fixed random seed.\n",
        "import random\n",
        "import numpy as np\n",
        "\n",
        "def init_random(random_seed=10):\n",
        "    \"\"\"Initializes the random generators used in the code to a predetermined random seed.\"\"\"\n",
        "    random.seed(random_seed)\n",
        "    np.random.seed(random_seed)"
      ]
    },
    {
      "cell_type": "code",
      "execution_count": 4,
      "metadata": {
        "id": "KCS-dhDgqO7i",
        "outputId": "bdfd7f5b-2584-4af9-e443-f1c44c1998d2",
        "colab": {
          "base_uri": "https://localhost:8080/",
          "height": 384
        }
      },
      "outputs": [
        {
          "output_type": "error",
          "ename": "ModuleNotFoundError",
          "evalue": "No module named 'util'",
          "traceback": [
            "\u001b[0;31m---------------------------------------------------------------------------\u001b[0m",
            "\u001b[0;31mModuleNotFoundError\u001b[0m                       Traceback (most recent call last)",
            "\u001b[0;32m<ipython-input-4-e48f35cc4876>\u001b[0m in \u001b[0;36m<cell line: 2>\u001b[0;34m()\u001b[0m\n\u001b[1;32m      1\u001b[0m \u001b[0;31m# Import some predefined constants and utility functions for visualization!\u001b[0m\u001b[0;34m\u001b[0m\u001b[0;34m\u001b[0m\u001b[0m\n\u001b[0;32m----> 2\u001b[0;31m \u001b[0;32mfrom\u001b[0m \u001b[0mutil\u001b[0m\u001b[0;34m.\u001b[0m\u001b[0mgridworld\u001b[0m \u001b[0;32mimport\u001b[0m \u001b[0mRANDOM_POLICY\u001b[0m\u001b[0;34m,\u001b[0m \u001b[0mGRID_WORLD_MDP\u001b[0m\u001b[0;34m,\u001b[0m \u001b[0mrun_simulation\u001b[0m\u001b[0;34m\u001b[0m\u001b[0;34m\u001b[0m\u001b[0m\n\u001b[0m\u001b[1;32m      3\u001b[0m \u001b[0;34m\u001b[0m\u001b[0m\n\u001b[1;32m      4\u001b[0m \u001b[0minit_random\u001b[0m\u001b[0;34m(\u001b[0m\u001b[0;34m)\u001b[0m\u001b[0;34m\u001b[0m\u001b[0;34m\u001b[0m\u001b[0m\n\u001b[1;32m      5\u001b[0m \u001b[0mrun_simulation\u001b[0m\u001b[0;34m(\u001b[0m\u001b[0mGRID_WORLD_MDP\u001b[0m\u001b[0;34m,\u001b[0m \u001b[0mRANDOM_POLICY\u001b[0m\u001b[0;34m)\u001b[0m\u001b[0;34m\u001b[0m\u001b[0;34m\u001b[0m\u001b[0m\n",
            "\u001b[0;31mModuleNotFoundError\u001b[0m: No module named 'util'",
            "",
            "\u001b[0;31m---------------------------------------------------------------------------\u001b[0;32m\nNOTE: If your import is failing due to a missing package, you can\nmanually install dependencies using either !pip or !apt.\n\nTo view examples of installing some common dependencies, click the\n\"Open Examples\" button below.\n\u001b[0;31m---------------------------------------------------------------------------\u001b[0m\n"
          ],
          "errorDetails": {
            "actions": [
              {
                "action": "open_url",
                "actionText": "Open Examples",
                "url": "/notebooks/snippets/importing_libraries.ipynb"
              }
            ]
          }
        }
      ],
      "source": [
        "# Import some predefined constants and utility functions for visualization!\n",
        "from util.gridworld import RANDOM_POLICY, GRID_WORLD_MDP, run_simulation\n",
        "\n",
        "init_random()\n",
        "run_simulation(GRID_WORLD_MDP, RANDOM_POLICY)"
      ]
    },
    {
      "cell_type": "markdown",
      "metadata": {
        "id": "vDbPMjB6qO7i"
      },
      "source": [
        "## Let's now create the grid world MDP!\n",
        "\n",
        "Keep in mind that the MDP is defined by: set of states, set of actions, transition and reward\n",
        "functions, and the initial state.\n",
        "\n",
        "Note that the environment is probabilistic: the agent might choose an action, but it will be\n",
        "successful only with a given probability. Put it in another way, there is a non-zero probability to\n",
        "land in a state we did not intended - see the TODOs!"
      ]
    },
    {
      "cell_type": "code",
      "source": [],
      "metadata": {
        "id": "Iq3r-MdVuGHH",
        "outputId": "911014e2-78cb-4342-e1f7-0200eea2ce30",
        "colab": {
          "base_uri": "https://localhost:8080/"
        }
      },
      "execution_count": 20,
      "outputs": [
        {
          "output_type": "execute_result",
          "data": {
            "text/plain": [
              "False"
            ]
          },
          "metadata": {},
          "execution_count": 20
        }
      ]
    },
    {
      "cell_type": "code",
      "execution_count": 31,
      "metadata": {
        "id": "HOUAvE_QqO7j"
      },
      "outputs": [],
      "source": [
        "from collections import defaultdict\n",
        "from dataclasses import dataclass\n",
        "from enum import Enum\n",
        "from numpy.testing import assert_almost_equal\n",
        "\n",
        "class Action(Enum):\n",
        "    \"\"\"Enum representing the available actions in the Grid World.\"\"\"\n",
        "    UP    = 1\n",
        "    RIGHT = 2\n",
        "    DOWN  = 3\n",
        "    LEFT  = 4\n",
        "\n",
        "@dataclass(frozen=True)\n",
        "class State:\n",
        "\n",
        "    \"\"\"Class representing a state in the Grid World.\"\"\"\n",
        "\n",
        "    x: int = 0\n",
        "    y: int = 0\n",
        "\n",
        "    def pos(self) -> tuple[int]:\n",
        "        return (self.x, self.y)\n",
        "\n",
        "class GridMDP:\n",
        "    \"\"\"\n",
        "    Class modeling the Grid World Markov Decision Process (MDP).\n",
        "    It defines the transition and reward functions, as well as states and gamma factor.\n",
        "    \"\"\"\n",
        "\n",
        "    def __init__(self, grid: Grid, start = State(), gamma = 1.0):\n",
        "        \"\"\"Initializes the GridMDP.\"\"\"\n",
        "        # TODO: Store the grid, start state, and gamma factor.\n",
        "        self.grid = grid\n",
        "        self.start = start\n",
        "        self.gamma = gamma\n",
        "\n",
        "        # TODO: Enumerate all available actions.\n",
        "        self.all_actions = list(Action)\n",
        "\n",
        "        # TODO: Enumerate all possible states. We could filter out the non-reachable states here,\n",
        "        #       but let's keep things simple and enumerate all of them in the grid.\n",
        "        self.all_states = [State(x, y) for x in range(self.grid.width) for y in range(self.grid.height)]\n",
        "\n",
        "    def is_terminal(self, state: State) -> bool:\n",
        "        \"\"\"Determines if the `state` is a terminal state.\"\"\"\n",
        "        # TODO: Return whether the state is a terminal state. Hint: TARGET and BOMB are the only\n",
        "        #       terminal states in the Grid World.\n",
        "        return self.grid[state.pos()] in (Cell.BOMB, Cell.TARGET)\n",
        "\n",
        "    def is_reachable(self, state: State) -> bool:\n",
        "        \"\"\"Determines if the `state` is reachable.\"\"\"\n",
        "        # TODO: Return whether the state is reachable. Hint: a state is reachable if it is inside\n",
        "        #       the grid, and it is not a WALL.\n",
        "\n",
        "        pos = state.pos()\n",
        "\n",
        "        if (pos[0] >= self.grid.width or pos[1] >= self.grid.height): return False\n",
        "        elif (pos[0] < 0 or pos[1] < 0): return False\n",
        "        elif self.grid[pos] == Cell.WALL: return False\n",
        "\n",
        "        return True\n",
        "\n",
        "    def reward(self, state: State, action: Action, next_state: State) -> float:\n",
        "        \"\"\"The reward function of the Grid World MDP.\"\"\"\n",
        "        # TODO: Compute and return the reward for the (state, action, next_state) tuple. We'll only\n",
        "        #       use next_state. If the next_state is TARGET, return 1.0 * gamma. If is is a BOMB,\n",
        "        #       return -1.0 * gamma. Else return zero.\n",
        "        if not self.is_reachable(next_state): return 0\n",
        "\n",
        "        reward_logic = lambda val: 1. if val == Cell.TARGET else -1\n",
        "\n",
        "        if not self.is_terminal(next_state): return 0\n",
        "        else:\n",
        "            # its a terminal state\n",
        "            reward = reward_logic(self.grid[next_state.pos()])\n",
        "            return self.gamma*reward\n",
        "\n",
        "    def transition(self, state: State, action: Action, noise = 0.0) -> dict[State, float]:\n",
        "        \"\"\"The transition function of the Grid World MDP.\"\"\"\n",
        "        if not self.is_reachable(state) or self.is_terminal(state):\n",
        "            return {}\n",
        "\n",
        "        def landing(candidate: State) -> State:\n",
        "            \"\"\"\n",
        "            Returns the state that we will end up, when attempting to reach another state.\n",
        "            Basically, if `candidate` is reachable it returns `candidate`, otherwise we stay put.\n",
        "            \"\"\"\n",
        "            return candidate if self.is_reachable(candidate) else state\n",
        "\n",
        "        # TODO: Compute the action expected \"landings\" for all the actions.\n",
        "        action_landings = {\n",
        "            Action.UP: landing(State(x = state.x, y = state.y+1)),\n",
        "            Action.DOWN: landing(State(state.x, state.y-1)),\n",
        "            Action.LEFT: landing(State(state.x-1, state.y)),\n",
        "            Action.RIGHT: landing(State(state.x+1, state.y))\n",
        "        }\n",
        "\n",
        "        # TODO: Compute the direction the agent might go by mistake (instead of the direction of the\n",
        "        #       chosen action) given the probabilistic Grid World MDP dynamics.\n",
        "        #       Hint: an action can go wrong only in the orthogonal directions (e.g., the agent\n",
        "        #       tries to go left, but it ends up going up or down; it cannot go right if it attemps\n",
        "        #       to go left).\n",
        "        mistaken_directions = [Action.UP, Action.DOWN] if action in (Action.LEFT, Action.RIGHT) else [Action.LEFT, Action.RIGHT]\n",
        "        # TODO: Compute the next state using the action_landings.\n",
        "        next_state = action_landings[action]\n",
        "        # TODO: Compute the list of possible \"mistake\" states given the mistaken_directions.\n",
        "        mistake_states = [action_landings[i] for i in mistaken_directions]\n",
        "\n",
        "        # Compute the transition probabilities. Probabilities are zero in every state, besides the\n",
        "        # next expected state from the chosen action - which has probability (1.0 -noise) - and the\n",
        "        # potentially \"mistake\" states which all have probability (noise / n_possible_mistakes).\n",
        "\n",
        "        probs = defaultdict(lambda: 0.0)\n",
        "        # TODO: Compute the probability of the next expected state.\n",
        "        probs[next_state] = 1. - noise\n",
        "        for m in mistake_states:\n",
        "            # TODO: Compute the probability of the mistaken states.\n",
        "            probs[m] += noise/len(mistake_states)\n",
        "\n",
        "        # A couple of assertions to verify the correctness of the probability computation.\n",
        "        assert sum(probs.values()) <= 1.0\n",
        "        assert_almost_equal(sum(probs.values()), 1.0)\n",
        "\n",
        "        return probs"
      ]
    },
    {
      "cell_type": "code",
      "source": [
        "\n",
        "GRID_MDP = GridMDP(WORLD_GRID, gamma=0.9)\n",
        "print(GRID_MDP.grid)\n",
        "\n",
        "p = GRID_MDP.transition(State(2, 0), Action.UP)\n",
        "print(p)"
      ],
      "metadata": {
        "id": "SHgRROjgrkMi",
        "outputId": "2886dc19-8588-49d8-83a1-240e7eb69e2c",
        "colab": {
          "base_uri": "https://localhost:8080/"
        }
      },
      "execution_count": 32,
      "outputs": [
        {
          "output_type": "stream",
          "name": "stdout",
          "text": [
            "E E E T\n",
            "E W E B\n",
            "S E E E\n",
            "defaultdict(<function GridMDP.transition.<locals>.<lambda> at 0x78cb67db5120>, {State(x=2, y=1): 1.0, State(x=1, y=0): 0.0, State(x=3, y=0): 0.0})\n"
          ]
        }
      ]
    },
    {
      "cell_type": "code",
      "execution_count": 33,
      "metadata": {
        "id": "oQiZsBS6qO7j"
      },
      "outputs": [],
      "source": [
        "# Test the implementation!\n",
        "from numpy.testing import assert_almost_equal\n",
        "init_random()\n",
        "\n",
        "GRID_MDP = GridMDP(WORLD_GRID, gamma=0.9)\n",
        "\n",
        "# Test all states\n",
        "all_states = GRID_MDP.all_states\n",
        "assert len(all_states) == 4 * 3\n",
        "assert GRID_MDP.all_actions == list(Action)\n",
        "\n",
        "# Test terminal and reachable states\n",
        "for s in all_states:\n",
        "    if s == State(3, 2) or s == State(3, 1):\n",
        "        assert GRID_MDP.is_terminal(s)\n",
        "        assert GRID_MDP.is_reachable(s)\n",
        "    elif s == State(1, 1):\n",
        "        assert not GRID_MDP.is_reachable(s)\n",
        "    else:\n",
        "        assert not GRID_MDP.is_terminal(s)\n",
        "        assert GRID_MDP.is_reachable(s)\n",
        "\n",
        "# Test rewards\n",
        "assert GRID_MDP.reward(State(0, 2), Action.DOWN, State(0, 1)) == 0.0\n",
        "assert GRID_MDP.reward(State(2, 1), Action.RIGHT, State(3, 1)) == -0.9\n",
        "assert GRID_MDP.reward(State(2, 2), Action.RIGHT, State(3, 2)) == 0.9\n",
        "\n",
        "# Test transitions\n",
        "p = GRID_MDP.transition(State(1, 2), Action.RIGHT, noise=0.2)\n",
        "assert_almost_equal(p[State(1, 2)], 0.2)\n",
        "assert_almost_equal(p[State(2, 2)], 0.8)\n",
        "\n",
        "p = GRID_MDP.transition(State(2, 0), Action.UP)\n",
        "assert_almost_equal(p[State(2, 1)], 1.0)\n",
        "assert_almost_equal(p[State(2, 0)], 0.0)\n",
        "assert_almost_equal(p[State(1, 0)], 0.0)\n",
        "assert_almost_equal(p[State(3, 0)], 0.0)\n",
        "assert State(1, 1) not in p\n",
        "\n",
        "p = GRID_MDP.transition(State(1, 0), Action.UP) # Hitting wall, for sure stays.\n",
        "assert_almost_equal(p[State(1, 0)], 1.0)\n",
        "assert_almost_equal(p[State(2, 0)], 0.0)\n",
        "assert_almost_equal(p[State(0, 0)], 0.0)\n",
        "\n",
        "p = GRID_MDP.transition(State(2, 0), Action.UP, noise=0.2)\n",
        "assert_almost_equal(p[State(2, 1)], 0.8)\n",
        "assert_almost_equal(p[State(1, 0)], 0.1)\n",
        "assert_almost_equal(p[State(3, 0)], 0.1)\n",
        "assert_almost_equal(p[State(2, 0)], 0.0)\n",
        "\n",
        "p = GRID_MDP.transition(State(0, 0), Action.DOWN, noise=0.2)\n",
        "assert_almost_equal(p[State(0, 0)], 0.9)\n",
        "assert_almost_equal(p[State(1, 0)], 0.1)\n",
        "assert_almost_equal(p[State(0, 1)], 0.0)\n",
        "\n",
        "p = GRID_MDP.transition(State(0, 0), Action.UP, noise=0.2)\n",
        "assert_almost_equal(p[State(0, 0)], 0.1)\n",
        "assert_almost_equal(p[State(1, 0)], 0.1)\n",
        "assert_almost_equal(p[State(0, 1)], 0.8)\n",
        "\n",
        "p = GRID_MDP.transition(State(2, 1), Action.LEFT, noise=0.2)\n",
        "assert_almost_equal(p[State(2, 1)], 0.8)\n",
        "assert_almost_equal(p[State(2, 2)], 0.1)\n",
        "assert_almost_equal(p[State(2, 0)], 0.1)\n"
      ]
    },
    {
      "cell_type": "markdown",
      "metadata": {
        "id": "_qJKFhbPqO7j"
      },
      "source": [
        "## Goal\n",
        "\n",
        "RL is based on the _reward hypothesis_: all goals can be formulated as the maximization of the agent\n",
        "(discounted) _cumulative_ reward:\n",
        "\n",
        "$$\n",
        "G_t = R_{t+1} + \\gamma R_{t+2} + \\gamma^2 R_{t+3} + ... = \\sum_{k=0}^{H} \\gamma^k R_{t + k + 1}\n",
        "$$\n",
        "\n",
        "Why discounts? To value of short-term rewards vs. future ones (e.g., money / interests).\n",
        "\n",
        "More formally, the agent goal is to find a policy (usually indicated with $\\pi$) that maximizes such\n",
        "expected return:\n",
        "\n",
        "$$\n",
        "Goal: \\max_{\\pi} \\mathbb{E}[ G_t | \\pi ] =\n",
        "      \\max_{\\pi} \\mathbb{E}[ \\sum_{t=0}^{H} \\gamma^k R(S_t, A_t, S_{t+1}) | \\pi ]\n",
        "$$\n",
        "\n",
        "Such policy is called the _optimal_ policy $\\pi^*$. Note: there can be more than one!"
      ]
    },
    {
      "cell_type": "markdown",
      "metadata": {
        "id": "Mv1uBBWEqO7j"
      },
      "source": [
        "## Exact Solution Methods\n",
        "\n",
        "When the MDP is small enough and we have access to the full dynamics (or transition model) of the\n",
        "environment, we can solve the MDP problem _exactly_ using dynamic programming.\n",
        "\n",
        "### Optimal Value Functions\n",
        "\n",
        "**Intuition:** A _value function_ assigns a numerical value to each state, representing how \"good\"\n",
        "such state is for the agent. For now, let's assume we already know the optimal policy.\n",
        "\n",
        "Two types of (optimal) value functions:\n",
        "\n",
        " * $V^*(s)$ is the best return we can get starting from state $s$ and then acting optimally.\n",
        " * $Q^*(s, a)$ is the best return we can get starting from state $s$ taking action $a$ and then\n",
        "   acting optimally.\n",
        "\n",
        "Generally, it is true that: $V^*(s) = \\max_{a} Q^*(s, a)$\n",
        "\n",
        "### Value Iteration\n",
        "\n",
        "The \"value iteration\" algorithm is based on the following recursive relation (or Bellman equation):\n",
        "\n",
        "$$\n",
        "Q^*(s, a) = \\sum_{s'} P(s'|s, a)[R(s,a,s') + \\gamma V^*(s')]\n",
        "$$\n",
        "\n",
        "Basically, the value of a certain state `s` is given by the sum (for all possible next states) of\n",
        "the probability of transitioning to that next state `s'` multiplied by the reward of that transition\n",
        "_plus_ the discounted value of such next state (hence, the recursive term).\n",
        "\n",
        "For the mathematical derivation, checked the linked materials in the Intro :)"
      ]
    },
    {
      "cell_type": "code",
      "execution_count": 35,
      "metadata": {
        "id": "zcdk4vrJqO7j"
      },
      "outputs": [],
      "source": [
        "import random\n",
        "\n",
        "class QTable:\n",
        "    \"\"\"Table storing Q, i.e., the state-action values.\n",
        "\n",
        "    This is not an optimal implementation, but hopefully useful for learning purposes.\n",
        "    \"\"\"\n",
        "\n",
        "    def __init__(self, states: list[State], actions: list[Action]):\n",
        "        \"\"\"Initializes the QTable given all states and actions of the MDP.\"\"\"\n",
        "        self.states = states\n",
        "        self.actions = actions\n",
        "        self.nA = len(actions)\n",
        "        # Why a dict of dict instead of a single dict indexed by tuple (State, Action)? Just for\n",
        "        # convenience when looking up all action values for a state.\n",
        "        self.table: dict[State, dict[Action, float]] = \\\n",
        "            { s : { a : 0.0 for a in actions } for s in states }\n",
        "\n",
        "    def __getitem__(self, key: tuple[State, Action]) -> float:\n",
        "        \"\"\"Returns the Q value for a tuple of (state, action).\"\"\"\n",
        "        # TODO: Return the corresponding value in the internal table.\n",
        "        return self.table[key[0]][key[1]]\n",
        "\n",
        "    def __setitem__(self, key: tuple[State, Action], value: float):\n",
        "        \"\"\"Returns the Q value for a tuple of (state, action).\"\"\"\n",
        "        # TODO: Set the value in the internal table.\n",
        "        self.table[key[0]][key[1]] = value\n",
        "\n",
        "    def value(self, state: State) -> float:\n",
        "        \"\"\"Returns the value of a state.\"\"\"\n",
        "        # TODO: Return the state value. Hint: the value of a state is the max Q value across all\n",
        "        #       actions for that state.\n",
        "        return max(list(self.table[state].values()))\n",
        "\n",
        "    def best_action(self, state: State) -> Action:\n",
        "        \"\"\"Returns the best action for a certain state.\"\"\"\n",
        "        best_action = None\n",
        "        best_v = float('-inf')\n",
        "        actions = list(self.table[state].keys())\n",
        "        # TODO: Use random.shuffle to shuffle the actions (in case multiple have the same value).\n",
        "        random.shuffle(actions)\n",
        "\n",
        "        state_actions = self.table[state]\n",
        "        for a in actions:\n",
        "            # TODO: Search for the best value.\n",
        "            if state_actions[a] > best_v:\n",
        "                best_v = state_actions[a]\n",
        "                best_action = a\n",
        "        return best_action"
      ]
    },
    {
      "cell_type": "code",
      "execution_count": 36,
      "metadata": {
        "id": "mLGFZGQHqO7j"
      },
      "outputs": [],
      "source": [
        "# Test our implementation!\n",
        "init_random()\n",
        "\n",
        "state_0 = State(0, 0)\n",
        "state_1 = State(10, 10)\n",
        "state_2 = State(11, 11)\n",
        "state_3 = State(11, 10)\n",
        "qtable = QTable([state_0, state_1, state_2, state_3], list(Action))\n",
        "\n",
        "# props\n",
        "assert qtable.states == [state_0, state_1, state_2, state_3]\n",
        "assert qtable.actions == list(Action)\n",
        "assert qtable.nA == len(list(Action))\n",
        "\n",
        "# init get\n",
        "assert qtable[(State(10, 10), Action.DOWN)] == 0.0\n",
        "\n",
        "# set\n",
        "qtable[state_1, Action.DOWN] = 0.5\n",
        "qtable[state_1, Action.UP]   = 1.5\n",
        "qtable[state_2, Action.LEFT] = 2.5\n",
        "assert qtable[state_1, Action.DOWN]  == 0.5\n",
        "assert qtable[state_1, Action.UP]    == 1.5\n",
        "assert qtable[state_2, Action.LEFT]  == 2.5\n",
        "assert qtable[state_2, Action.RIGHT] == 0.0\n",
        "\n",
        "# value\n",
        "assert qtable.value(state_1) == 1.5\n",
        "assert qtable.value(state_2) == 2.5\n",
        "assert qtable.value(state_3) == 0.0\n",
        "\n",
        "# best action\n",
        "assert qtable.best_action(state_1) == Action.UP\n",
        "assert qtable.best_action(state_2) == Action.LEFT\n",
        "# let's hope large numbers don't fail us :)\n",
        "many_actions = [qtable.best_action(state_0) for _ in range(5_000)]\n",
        "assert len(dict.fromkeys(many_actions)) == 4"
      ]
    },
    {
      "cell_type": "code",
      "execution_count": 64,
      "metadata": {
        "id": "9TF46bwjqO7k"
      },
      "outputs": [],
      "source": [
        "from copy import deepcopy\n",
        "def value_iteration(mdp: GridMDP, noise = 0.0, n_iterations = 100) -> QTable:\n",
        "    \"\"\"Runs the value iteration algorithm for the Grid World MDP\"\"\"\n",
        "    # TODO: Initialize the QTable with the states and actions coming from the MDP.\n",
        "    # breakpoint()\n",
        "    grid = mdp.grid\n",
        "\n",
        "    nx, ny = grid.width, grid.height\n",
        "    states = []\n",
        "\n",
        "    for i in range(nx):\n",
        "        for j in range(ny):\n",
        "            states.append(State(i, j))\n",
        "\n",
        "    actions = [Action.UP, Action.DOWN, Action.LEFT, Action.RIGHT]\n",
        "\n",
        "    qtable = QTable(states = states, actions = actions)\n",
        "    new_qtable = None\n",
        "    # breakpoint()\n",
        "    for _ in range(0, n_iterations):\n",
        "        # TODO: Create a new QTable to store the updated values.\n",
        "        del new_qtable\n",
        "        new_qtable = deepcopy(qtable)\n",
        "\n",
        "        # TODO: Loop over all states, over all actions, get the transition probabilities, get the\n",
        "        #       reward via the MDP reward function, and update the new_qtable according to the\n",
        "        #       update-rule defined above (i.e., prob * (reward + gamma * state_value))\n",
        "\n",
        "        for state, action_values in new_qtable.table.items():\n",
        "            for action in action_values:\n",
        "\n",
        "                next_state_probs = mdp.transition(state, action, noise)\n",
        "\n",
        "                q_value_for_state_action = 0.\n",
        "\n",
        "                for next_state, prob in next_state_probs.items():\n",
        "                    reward = mdp.reward(state, action, next_state)\n",
        "                    q_value_for_state_action += prob*(reward + mdp.gamma * (new_qtable.value(next_state)))\n",
        "\n",
        "                new_qtable.table[state][action] = q_value_for_state_action\n",
        "\n",
        "        # Swap the qtable with the updated new_qtable.\n",
        "        qtable = new_qtable\n",
        "\n",
        "    return qtable"
      ]
    },
    {
      "cell_type": "code",
      "source": [
        "GRID_MDP.grid"
      ],
      "metadata": {
        "id": "NETk59Pw4aJm",
        "outputId": "7660aea7-1b2a-41f0-c973-c650fe2f0b70",
        "colab": {
          "base_uri": "https://localhost:8080/"
        }
      },
      "execution_count": 65,
      "outputs": [
        {
          "output_type": "execute_result",
          "data": {
            "text/plain": [
              "<__main__.Grid at 0x78cb67e0e6b0>"
            ]
          },
          "metadata": {},
          "execution_count": 65
        }
      ]
    },
    {
      "cell_type": "code",
      "execution_count": 66,
      "metadata": {
        "id": "JD3FhGprqO7k"
      },
      "outputs": [],
      "source": [
        "# Test our implementation!\n",
        "init_random()\n",
        "\n",
        "qtable = value_iteration(GRID_MDP, noise = 0.2)\n",
        "\n",
        "assert f'{qtable.value(State(0, 0)):.2f}' == '0.49'\n",
        "assert f'{qtable.value(State(1, 0)):.2f}' == '0.43'\n",
        "assert f'{qtable.value(State(2, 0)):.2f}' == '0.48'\n",
        "assert f'{qtable.value(State(3, 0)):.2f}' == '0.28'\n",
        "assert f'{qtable.value(State(0, 1)):.2f}' == '0.57'\n",
        "assert f'{qtable.value(State(1, 1)):.2f}' == '0.00'\n",
        "assert f'{qtable.value(State(2, 1)):.2f}' == '0.57'\n",
        "assert f'{qtable.value(State(3, 1)):.2f}' == '0.00'\n",
        "assert f'{qtable.value(State(0, 2)):.2f}' == '0.64'\n",
        "assert f'{qtable.value(State(1, 2)):.2f}' == '0.74'\n",
        "assert f'{qtable.value(State(2, 2)):.2f}' == '0.85'\n",
        "assert f'{qtable.value(State(3, 2)):.2f}' == '0.00'"
      ]
    },
    {
      "cell_type": "markdown",
      "metadata": {
        "id": "Jai1dmdtqO7k"
      },
      "source": [
        "Let's visualize our value function!"
      ]
    },
    {
      "cell_type": "code",
      "source": [
        "qtable.table"
      ],
      "metadata": {
        "id": "PSqixBlO6XtJ"
      },
      "execution_count": null,
      "outputs": []
    },
    {
      "cell_type": "code",
      "source": [
        "import matplotlib.pyplot as plt\n",
        "from matplotlib import colors\n",
        "from matplotlib import animation\n",
        "import os\n",
        "from IPython.display import Image\n",
        "import tempfile\n",
        "\n",
        "plt.rcParams[\"animation.html\"] = \"jshtml\"\n",
        "plt.rcParams['figure.dpi'] = 100\n",
        "# plt.ion()\n",
        "\n",
        "CMAP = colors.ListedColormap(['lavender', 'palegreen', 'white', 'gray', 'lightpink', 'limegreen', 'red'])\n",
        "CMAP_BOUNDS = [0, 1, 2, 3, 4, 5, 6, 7]\n",
        "NORM = colors.BoundaryNorm(CMAP_BOUNDS, CMAP.N)\n",
        "CELL_VALUES = { 'S': 0, 'T': 1, 'E': 2, 'W': 3, 'B': 4, 'G': 5, 'N': 6 }\n",
        "\n",
        "class PlotData:\n",
        "    def __init__(self, grid, ax, agent_marker, state_value_texts):\n",
        "        self.grid = grid\n",
        "        self.ax = ax\n",
        "        self.agent_marker = agent_marker\n",
        "        self.state_value_texts = state_value_texts\n",
        "\n",
        "def plot_grid(grid, qtable = None, agent_pos: tuple[int, int] = None):\n",
        "    plt.rcParams[\"figure.figsize\"] = [3.5, 2.5]\n",
        "    # plt.rcParams[\"figure.autolayout\"] = True\n",
        "    colors_matrix = np.array([[CELL_VALUES[marker] for marker in row] for row in grid.cells])\n",
        "    fig, ax = plt.subplots()\n",
        "    ax.imshow(colors_matrix, cmap=CMAP, norm=NORM)\n",
        "    state_value_texts = [[None for _ in range(grid.height)] for _ in range(grid.width)]\n",
        "    if qtable is not None:\n",
        "        for x in range(grid.width):\n",
        "            for y in range(grid.height):\n",
        "                # To make sure there is no conflict with the notebook types.\n",
        "                state = next(filter(lambda s: s.x == x and s.y == y, qtable.table.keys()))\n",
        "                txt = ax.text(x, grid.height - y - 1, f'{qtable.value(state):.2f}',\n",
        "                              ha='center', va='center', fontsize=12, color='black')\n",
        "                state_value_texts[x][y] = txt\n",
        "    plt.scatter(0, 2, s=1000, c='white', marker='*')\n",
        "    agent_marker = None if agent_pos is None else \\\n",
        "        plt.scatter(agent_pos[0], grid.height - agent_pos[1] -1, s=1000,\n",
        "                    c='blue', marker='*', animated=True)\n",
        "    ax.axes.get_xaxis().set_ticks(np.arange(grid.width) + 0.5)\n",
        "    ax.axes.get_yaxis().set_ticks(np.arange(grid.height) + 0.5)\n",
        "    ax.axes.get_xaxis().set_ticklabels([])\n",
        "    ax.axes.get_yaxis().set_ticklabels([])\n",
        "    ax.grid()\n",
        "    # plt.show()\n",
        "    return fig, PlotData(grid, ax, agent_marker, state_value_texts)\n",
        "\n",
        "@dataclass\n",
        "class Step:\n",
        "    state: State\n",
        "    action: Action\n",
        "    reward: float\n",
        "\n",
        "def simulate_mdp(mdp, policy, max_iterations=20) -> list[Step]:\n",
        "    steps = []\n",
        "    state = mdp.start\n",
        "    current_iteration = 0\n",
        "    while current_iteration != max_iterations and \\\n",
        "            not mdp.is_terminal(state) and \\\n",
        "            mdp.is_reachable(state):\n",
        "        current_iteration += 1\n",
        "        action = policy(state)\n",
        "        state_probs = [(s, p) for s, p in mdp.transition(state, action).items()]\n",
        "        probs = [x[1] for x in state_probs]\n",
        "        next_state = np.random.choice(len(probs), p=probs)\n",
        "        next_state = state_probs[next_state][0]\n",
        "        reward = mdp.reward(state, action, next_state)\n",
        "        steps.append(Step(state, action, reward))\n",
        "        state = next_state\n",
        "    steps.append(Step(state, None, 0.0))\n",
        "    return steps\n",
        "\n",
        "def run_simulation(mdp, policy, max_iterations=20, frames_per_state=10):\n",
        "    steps = simulate_mdp(mdp, policy, max_iterations)\n",
        "\n",
        "    # Compute cumulative returns for convenience\n",
        "    returns = [0.0]\n",
        "    for i, s in enumerate(steps):\n",
        "        returns.append(returns[i] + s.reward)\n",
        "\n",
        "    fig, data = plot_grid(mdp.grid, agent_pos=mdp.start.pos())\n",
        "    plt.close(fig)\n",
        "\n",
        "    def animate(frame):\n",
        "        state_frame = frame // frames_per_state\n",
        "\n",
        "        state = steps[state_frame].state\n",
        "        previous_state = None if state_frame == 0 else steps[state_frame - 1].state\n",
        "        stayed_in_place = (state == previous_state)\n",
        "\n",
        "        new_x, new_y = (state.x, mdp.grid.height - state.y - 1)\n",
        "\n",
        "        if frame < frames_per_state:\n",
        "            data.agent_marker.set_offsets((new_x, new_y))\n",
        "            return\n",
        "\n",
        "        old_x, old_y = data.agent_marker.get_offsets()[0]\n",
        "        delta_x = float(new_x - old_x) / 4.\n",
        "        delta_y = float(new_y - old_y) / 4.\n",
        "\n",
        "        anim_frame = frame % frames_per_state\n",
        "\n",
        "        if anim_frame < 4:\n",
        "            if stayed_in_place:\n",
        "                cur_x = new_x + 0.1 * ((-1) ** (anim_frame % 2))\n",
        "                cur_y = new_y\n",
        "            else:\n",
        "                cur_x = old_x + delta_x * anim_frame\n",
        "                cur_y = old_y + delta_y * anim_frame\n",
        "        else:\n",
        "            cur_x = new_x\n",
        "            cur_y = new_y\n",
        "\n",
        "        data.ax.set_title(f'Return: {returns[state_frame]}')\n",
        "        data.agent_marker.set_offsets((cur_x, cur_y))\n",
        "\n",
        "    anim = animation.FuncAnimation(fig, animate, frames=len(steps) * frames_per_state, interval=50)\n",
        "\n",
        "    # Temporary workaround to avoid:\n",
        "    #   UserWarning: Animation was deleted without rendering anything.\n",
        "    f = os.path.join('./', 'rl_animation.gif')\n",
        "    writergif = animation.PillowWriter(fps=20)\n",
        "    anim.save(f, writer=writergif)\n",
        "    plt.close()\n",
        "    return Image(open(f, 'rb').read())"
      ],
      "metadata": {
        "id": "wJFbj1wM6m0C"
      },
      "execution_count": 74,
      "outputs": []
    },
    {
      "cell_type": "code",
      "execution_count": 75,
      "metadata": {
        "id": "t-WtXu5XqO7k",
        "outputId": "403e871e-d02a-43c4-de59-b3547e010f33",
        "colab": {
          "base_uri": "https://localhost:8080/",
          "height": 234
        }
      },
      "outputs": [
        {
          "output_type": "display_data",
          "data": {
            "text/plain": [
              "<Figure size 350x250 with 1 Axes>"
            ],
            "image/png": "[encoded data removed]"
          },
          "metadata": {}
        }
      ],
      "source": [
        "# Using provided utilities, we can print the state values of the Grid World!\n",
        "_, _ = plot_grid(GRID_MDP.grid, qtable)"
      ]
    },
    {
      "cell_type": "markdown",
      "metadata": {
        "id": "QgF4DjKbqO7k"
      },
      "source": [
        "#### Notes\n",
        "\n",
        "**Vectorized implementation**: This is clearly not an optimal implementation, but it is good for\n",
        "understanding the algorithm. For an optimized algorithm, we should vectorize states, actions, and\n",
        "use a vectorized implementation. Something along the lines of:\n",
        "\n",
        "```python\n",
        "    new_value = np.max(np.sum(transitions * (rewards + gamma * old_value), axis=2), axis=1)\n",
        "```\n",
        "\n",
        "**Convergence**: Value iteration (as well as policy iteration, see below) are proven to converge.\n",
        "Check out the materials linked in the Intro in case you are interested.\n",
        "\n",
        "**Policy Iteration**: Another exect solution algorithm (one \"policy evaluation\" step to find state\n",
        "values, followed by \"policy improvement\"). It is usually faster (see linked resources)."
      ]
    },
    {
      "cell_type": "markdown",
      "metadata": {
        "id": "65YQrV1JqO7k"
      },
      "source": [
        "### Optimal Policy\n",
        "\n",
        "Got the optimal value function, and now? Well, we are in luck: an optimal policy is the one that chooses the action with higher value!\n",
        "\n",
        "$$\n",
        "\\pi^*(s) = \\argmax_a Q^*(s, a)\n",
        "$$"
      ]
    },
    {
      "cell_type": "code",
      "execution_count": 76,
      "metadata": {
        "id": "f8l9gTrCqO7k"
      },
      "outputs": [],
      "source": [
        "optimal_policy = lambda s: qtable.best_action(s)"
      ]
    },
    {
      "cell_type": "code",
      "execution_count": 77,
      "metadata": {
        "id": "7YpK02rNqO7k",
        "outputId": "5cc6cd06-6261-4b9a-8f62-e42f1f7b8f5d",
        "colab": {
          "base_uri": "https://localhost:8080/",
          "height": 267
        }
      },
      "outputs": [
        {
          "output_type": "execute_result",
          "data": {
            "image/png": "[encoded data removed]",
            "text/plain": [
              "<IPython.core.display.Image object>"
            ]
          },
          "metadata": {},
          "execution_count": 77
        }
      ],
      "source": [
        "# Let's see how an optimal agent behaves!\n",
        "init_random()\n",
        "run_simulation(GRID_MDP, optimal_policy)"
      ]
    },
    {
      "cell_type": "markdown",
      "metadata": {
        "id": "5AVa9KgkqO7k"
      },
      "source": [
        "## Aren't We Done?! :)\n",
        "\n",
        "Fortunately for our own amusement, we are not! There are two major very practical limitations:\n",
        "\n",
        " 1. We rarely (almost never!) have access to the MDP transition model.\n",
        " 2. The state and action space are generally large and not tractable this way.\n",
        "\n",
        "The first point is what classic reinforcement learning algorithms address: enable the agent to find\n",
        "an optimal policy just from interacting with (i.e., sampling) the environment. The second category\n",
        "is addressed by deep reinforcement learning! Keep going and have fun!"
      ]
    },
    {
      "cell_type": "markdown",
      "metadata": {
        "id": "xgHz-ubmqO7k"
      },
      "source": [
        "### Grid World Environment\n",
        "\n",
        "The _environment_ is what the agent will use in reinforcement learning algorithms."
      ]
    },
    {
      "cell_type": "code",
      "execution_count": 100,
      "metadata": {
        "id": "iqG7x4FBqO7k"
      },
      "outputs": [],
      "source": [
        "import numpy as np\n",
        "\n",
        "class GridEnv:\n",
        "    \"\"\"A reinforcement learning environment to interact with the Grid World and sample from it.\"\"\"\n",
        "\n",
        "    def __init__(self, mdp: GridMDP):\n",
        "        \"\"\"Initializes the GridEnv.\"\"\"\n",
        "        self.mdp = mdp\n",
        "        self.state = mdp.start\n",
        "        self.terminated = False\n",
        "\n",
        "    def reset(self) -> State:\n",
        "        \"\"\"Resets the state to the start state, not terminated, and returns the new start state.\"\"\"\n",
        "        self.state = self.mdp.start\n",
        "        self.terminated = False\n",
        "        return self.state\n",
        "\n",
        "    def step(self, action: Action) -> tuple[State, float, bool]:\n",
        "        \"\"\"Performs a step in the environment given the selected `action` by the agent.\n",
        "\n",
        "        Returns a tuple of (next_state, reward, is_done), with the next state after the action has\n",
        "        been taked, the associated reward, and whether the episode terminated.\n",
        "        \"\"\"\n",
        "\n",
        "        if self.terminated:\n",
        "            raise Exception('Environment episode completed, please call reset.')\n",
        "\n",
        "        # TODO: Compute the state probabilities for the action, sample the probabilities to select\n",
        "        #       the next state, calculate the reward, determine if the next_state is terminal, and\n",
        "        #       return the tuple (next_state, reward, done).\n",
        "\n",
        "        present_state = self.state\n",
        "\n",
        "        next_state_probs = self.mdp.transition(present_state, action)\n",
        "        next_state = list(next_state_probs.keys())[0]\n",
        "        prob = next_state_probs[next_state]\n",
        "\n",
        "        reward = self.mdp.reward(present_state, action, next_state)\n",
        "\n",
        "        is_terminal = self.mdp.is_terminal(next_state)\n",
        "        self.state = next_state\n",
        "\n",
        "        self.terminated = is_terminal\n",
        "\n",
        "        return (next_state, reward, is_terminal)"
      ]
    },
    {
      "cell_type": "code",
      "execution_count": 101,
      "metadata": {
        "id": "POFZUjikqO7k"
      },
      "outputs": [],
      "source": [
        "# Test your implementation!\n",
        "init_random()\n",
        "\n",
        "GRID_ENV = GridEnv(GridMDP(WORLD_GRID))\n",
        "\n",
        "assert not GRID_ENV.terminated\n",
        "\n",
        "assert GRID_ENV.step(Action.UP) == (State(0, 1), 0.0, False)\n",
        "assert GRID_ENV.state == State(0, 1)\n",
        "\n",
        "assert GRID_ENV.step(Action.UP) == (State(0, 2), 0.0, False)\n",
        "assert GRID_ENV.state == State(0, 2)\n",
        "\n",
        "GRID_ENV.terminated = True\n",
        "assert GRID_ENV.reset() == State()\n",
        "assert GRID_ENV.state == State()\n",
        "assert GRID_ENV.terminated == False\n",
        "\n",
        "GRID_ENV.step(Action.UP)\n",
        "GRID_ENV.step(Action.UP)\n",
        "GRID_ENV.step(Action.RIGHT)\n",
        "\n",
        "assert GRID_ENV.step(Action.RIGHT) == (State(2, 2), 0.0, False)\n",
        "assert GRID_ENV.step(Action.RIGHT) == (State(3, 2), 1.0, True)\n",
        "assert GRID_ENV.terminated\n"
      ]
    },
    {
      "cell_type": "markdown",
      "metadata": {
        "id": "8_b2KrCNqO7k"
      },
      "source": [
        "## Appendix\n",
        "\n",
        "### Noise and Discount Tradeoff\n",
        "\n",
        "Consider the cliff-world grid:"
      ]
    },
    {
      "cell_type": "code",
      "execution_count": null,
      "metadata": {
        "id": "wPLgUVPsqO7k"
      },
      "outputs": [],
      "source": [
        "from util.gridworld import Grid\n",
        "\n",
        "# N has -10 return, G has +10 return.\n",
        "CLIFF_WORLD_GRID = Grid([\n",
        "    'EEEEE',\n",
        "    'EWEEE',\n",
        "    'EWTWG',\n",
        "    'SEEEE',\n",
        "    'NNNNN',\n",
        "])\n",
        "\n",
        "plot_grid(CLIFF_WORLD_GRID, agent_pos=(0, 1))"
      ]
    },
    {
      "cell_type": "markdown",
      "metadata": {
        "id": "mHIfr7xKqO7k"
      },
      "source": [
        "Try to solve the environment with different values of $\\gamma$ (e.g., `0.1` and `0.99`) and _noise_\n",
        "(e.g., `0` and `0.5`). When does the agent prefers the shortest path? What about the closer exit?\n",
        "When does it risk the cliff?"
      ]
    },
    {
      "cell_type": "markdown",
      "metadata": {
        "id": "lNWYKjiKqO7k"
      },
      "source": [
        "### Extensions\n",
        "\n",
        "There are extensions to MDP such as POMDP (Partially Observable MDP) and HMM (Hidden Markov Models)\n",
        "that are interesting areas to explore and learn about as well!"
      ]
    }
  ],
  "metadata": {
    "kernelspec": {
      "display_name": "Python 3 (ipykernel)",
      "language": "python",
      "name": "python3"
    },
    "colab": {
      "provenance": []
    }
  },
  "nbformat": 4,
  "nbformat_minor": 0
}